{
  "cells": [
    {
      "cell_type": "markdown",
      "metadata": {
        "id": "WKxgywKy1kLK"
      },
      "source": [
        "# **ML Project**\n",
        "\n",
        "Dataset: Employee Analysis | Attrition Report\n",
        "\n",
        "https://www.kaggle.com/datasets/whenamancodes/hr-employee-attrition"
      ]
    },
    {
      "cell_type": "markdown",
      "metadata": {
        "id": "RUf5khr42Pdc"
      },
      "source": [
        "# Importing Library"
      ]
    },
    {
      "cell_type": "code",
      "execution_count": 18,
      "metadata": {
        "id": "deHXSeDoz9F1"
      },
      "outputs": [],
      "source": [
        "import numpy as np\n",
        "import pandas as pd\n",
        "import matplotlib.pyplot as plt\n",
        "import seaborn as sns\n",
        "import statistics  as sts\n",
        "from imblearn.over_sampling import SMOTE\n",
        "from sklearn.model_selection import train_test_split\n",
        "from sklearn.pipeline import Pipeline\n",
        "from sklearn.preprocessing import StandardScaler, LabelEncoder\n",
        "from sklearn.ensemble import RandomForestClassifier\n",
        "from sklearn.tree import DecisionTreeClassifier\n",
        "from sklearn.neighbors import KNeighborsClassifier\n",
        "from sklearn.feature_selection import mutual_info_classif, SelectKBest, SequentialFeatureSelector as SFS\n",
        "from sklearn.model_selection import StratifiedKFold, GridSearchCV, RandomizedSearchCV\n",
        "from feature_engine.selection import SmartCorrelatedSelection\n",
        "from venny4py.venny4py import *"
      ]
    },
    {
      "cell_type": "markdown",
      "metadata": {
        "id": "vNTv5kJp2UnK"
      },
      "source": [
        "# Data"
      ]
    },
    {
      "cell_type": "code",
      "execution_count": 19,
      "metadata": {
        "colab": {
          "base_uri": "https://localhost:8080/",
          "height": 325
        },
        "id": "f6xsUA9f2Xca",
        "outputId": "53161a02-5514-4542-80ce-4610a12d5213"
      },
      "outputs": [
        {
          "data": {
            "text/html": [
              "<div>\n",
              "<style scoped>\n",
              "    .dataframe tbody tr th:only-of-type {\n",
              "        vertical-align: middle;\n",
              "    }\n",
              "\n",
              "    .dataframe tbody tr th {\n",
              "        vertical-align: top;\n",
              "    }\n",
              "\n",
              "    .dataframe thead th {\n",
              "        text-align: right;\n",
              "    }\n",
              "</style>\n",
              "<table border=\"1\" class=\"dataframe\">\n",
              "  <thead>\n",
              "    <tr style=\"text-align: right;\">\n",
              "      <th></th>\n",
              "      <th>Age</th>\n",
              "      <th>Attrition</th>\n",
              "      <th>BusinessTravel</th>\n",
              "      <th>DailyRate</th>\n",
              "      <th>Department</th>\n",
              "      <th>DistanceFromHome</th>\n",
              "      <th>Education</th>\n",
              "      <th>EducationField</th>\n",
              "      <th>EmployeeCount</th>\n",
              "      <th>EmployeeNumber</th>\n",
              "      <th>...</th>\n",
              "      <th>RelationshipSatisfaction</th>\n",
              "      <th>StandardHours</th>\n",
              "      <th>StockOptionLevel</th>\n",
              "      <th>TotalWorkingYears</th>\n",
              "      <th>TrainingTimesLastYear</th>\n",
              "      <th>WorkLifeBalance</th>\n",
              "      <th>YearsAtCompany</th>\n",
              "      <th>YearsInCurrentRole</th>\n",
              "      <th>YearsSinceLastPromotion</th>\n",
              "      <th>YearsWithCurrManager</th>\n",
              "    </tr>\n",
              "  </thead>\n",
              "  <tbody>\n",
              "    <tr>\n",
              "      <th>0</th>\n",
              "      <td>41</td>\n",
              "      <td>Yes</td>\n",
              "      <td>Travel_Rarely</td>\n",
              "      <td>1102</td>\n",
              "      <td>Sales</td>\n",
              "      <td>1</td>\n",
              "      <td>2</td>\n",
              "      <td>Life Sciences</td>\n",
              "      <td>1</td>\n",
              "      <td>1</td>\n",
              "      <td>...</td>\n",
              "      <td>1</td>\n",
              "      <td>80</td>\n",
              "      <td>0</td>\n",
              "      <td>8</td>\n",
              "      <td>0</td>\n",
              "      <td>1</td>\n",
              "      <td>6</td>\n",
              "      <td>4</td>\n",
              "      <td>0</td>\n",
              "      <td>5</td>\n",
              "    </tr>\n",
              "    <tr>\n",
              "      <th>1</th>\n",
              "      <td>49</td>\n",
              "      <td>No</td>\n",
              "      <td>Travel_Frequently</td>\n",
              "      <td>279</td>\n",
              "      <td>Research &amp; Development</td>\n",
              "      <td>8</td>\n",
              "      <td>1</td>\n",
              "      <td>Life Sciences</td>\n",
              "      <td>1</td>\n",
              "      <td>2</td>\n",
              "      <td>...</td>\n",
              "      <td>4</td>\n",
              "      <td>80</td>\n",
              "      <td>1</td>\n",
              "      <td>10</td>\n",
              "      <td>3</td>\n",
              "      <td>3</td>\n",
              "      <td>10</td>\n",
              "      <td>7</td>\n",
              "      <td>1</td>\n",
              "      <td>7</td>\n",
              "    </tr>\n",
              "    <tr>\n",
              "      <th>2</th>\n",
              "      <td>37</td>\n",
              "      <td>Yes</td>\n",
              "      <td>Travel_Rarely</td>\n",
              "      <td>1373</td>\n",
              "      <td>Research &amp; Development</td>\n",
              "      <td>2</td>\n",
              "      <td>2</td>\n",
              "      <td>Other</td>\n",
              "      <td>1</td>\n",
              "      <td>4</td>\n",
              "      <td>...</td>\n",
              "      <td>2</td>\n",
              "      <td>80</td>\n",
              "      <td>0</td>\n",
              "      <td>7</td>\n",
              "      <td>3</td>\n",
              "      <td>3</td>\n",
              "      <td>0</td>\n",
              "      <td>0</td>\n",
              "      <td>0</td>\n",
              "      <td>0</td>\n",
              "    </tr>\n",
              "    <tr>\n",
              "      <th>3</th>\n",
              "      <td>33</td>\n",
              "      <td>No</td>\n",
              "      <td>Travel_Frequently</td>\n",
              "      <td>1392</td>\n",
              "      <td>Research &amp; Development</td>\n",
              "      <td>3</td>\n",
              "      <td>4</td>\n",
              "      <td>Life Sciences</td>\n",
              "      <td>1</td>\n",
              "      <td>5</td>\n",
              "      <td>...</td>\n",
              "      <td>3</td>\n",
              "      <td>80</td>\n",
              "      <td>0</td>\n",
              "      <td>8</td>\n",
              "      <td>3</td>\n",
              "      <td>3</td>\n",
              "      <td>8</td>\n",
              "      <td>7</td>\n",
              "      <td>3</td>\n",
              "      <td>0</td>\n",
              "    </tr>\n",
              "    <tr>\n",
              "      <th>4</th>\n",
              "      <td>27</td>\n",
              "      <td>No</td>\n",
              "      <td>Travel_Rarely</td>\n",
              "      <td>591</td>\n",
              "      <td>Research &amp; Development</td>\n",
              "      <td>2</td>\n",
              "      <td>1</td>\n",
              "      <td>Medical</td>\n",
              "      <td>1</td>\n",
              "      <td>7</td>\n",
              "      <td>...</td>\n",
              "      <td>4</td>\n",
              "      <td>80</td>\n",
              "      <td>1</td>\n",
              "      <td>6</td>\n",
              "      <td>3</td>\n",
              "      <td>3</td>\n",
              "      <td>2</td>\n",
              "      <td>2</td>\n",
              "      <td>2</td>\n",
              "      <td>2</td>\n",
              "    </tr>\n",
              "  </tbody>\n",
              "</table>\n",
              "<p>5 rows × 35 columns</p>\n",
              "</div>"
            ],
            "text/plain": [
              "   Age Attrition     BusinessTravel  DailyRate              Department  \\\n",
              "0   41       Yes      Travel_Rarely       1102                   Sales   \n",
              "1   49        No  Travel_Frequently        279  Research & Development   \n",
              "2   37       Yes      Travel_Rarely       1373  Research & Development   \n",
              "3   33        No  Travel_Frequently       1392  Research & Development   \n",
              "4   27        No      Travel_Rarely        591  Research & Development   \n",
              "\n",
              "   DistanceFromHome  Education EducationField  EmployeeCount  EmployeeNumber  \\\n",
              "0                 1          2  Life Sciences              1               1   \n",
              "1                 8          1  Life Sciences              1               2   \n",
              "2                 2          2          Other              1               4   \n",
              "3                 3          4  Life Sciences              1               5   \n",
              "4                 2          1        Medical              1               7   \n",
              "\n",
              "   ...  RelationshipSatisfaction StandardHours  StockOptionLevel  \\\n",
              "0  ...                         1            80                 0   \n",
              "1  ...                         4            80                 1   \n",
              "2  ...                         2            80                 0   \n",
              "3  ...                         3            80                 0   \n",
              "4  ...                         4            80                 1   \n",
              "\n",
              "   TotalWorkingYears  TrainingTimesLastYear WorkLifeBalance  YearsAtCompany  \\\n",
              "0                  8                      0               1               6   \n",
              "1                 10                      3               3              10   \n",
              "2                  7                      3               3               0   \n",
              "3                  8                      3               3               8   \n",
              "4                  6                      3               3               2   \n",
              "\n",
              "  YearsInCurrentRole  YearsSinceLastPromotion  YearsWithCurrManager  \n",
              "0                  4                        0                     5  \n",
              "1                  7                        1                     7  \n",
              "2                  0                        0                     0  \n",
              "3                  7                        3                     0  \n",
              "4                  2                        2                     2  \n",
              "\n",
              "[5 rows x 35 columns]"
            ]
          },
          "execution_count": 19,
          "metadata": {},
          "output_type": "execute_result"
        }
      ],
      "source": [
        "df = pd.read_csv('HR Employee Attrition.csv')\n",
        "df.head()"
      ]
    },
    {
      "cell_type": "markdown",
      "metadata": {
        "id": "j6TKJVjG5y_U"
      },
      "source": [
        "# Analisys"
      ]
    },
    {
      "cell_type": "code",
      "execution_count": 20,
      "metadata": {
        "colab": {
          "base_uri": "https://localhost:8080/",
          "height": 428
        },
        "id": "OR2hBudE6WTv",
        "outputId": "000e838c-a589-4456-cea5-b438a10193b7"
      },
      "outputs": [
        {
          "data": {
            "text/plain": [
              "<Axes: ylabel='JobRole'>"
            ]
          },
          "execution_count": 20,
          "metadata": {},
          "output_type": "execute_result"
        },
        {
          "data": {
            "image/png": "[encoded data removed]",
            "text/plain": [
              "<Figure size 640x480 with 1 Axes>"
            ]
          },
          "metadata": {},
          "output_type": "display_data"
        }
      ],
      "source": [
        "# Violin plot distribution JobRole\n",
        "\n",
        "sns.violinplot(df['JobRole'])"
      ]
    },
    {
      "cell_type": "code",
      "execution_count": 21,
      "metadata": {
        "colab": {
          "base_uri": "https://localhost:8080/",
          "height": 269
        },
        "id": "CnDdKhj-9Fyb",
        "outputId": "4d6fed5e-1bb8-4de3-f260-474a62d0383b"
      },
      "outputs": [
        {
          "data": {
            "text/html": [
              "<div>\n",
              "<style scoped>\n",
              "    .dataframe tbody tr th:only-of-type {\n",
              "        vertical-align: middle;\n",
              "    }\n",
              "\n",
              "    .dataframe tbody tr th {\n",
              "        vertical-align: top;\n",
              "    }\n",
              "\n",
              "    .dataframe thead th {\n",
              "        text-align: right;\n",
              "    }\n",
              "</style>\n",
              "<table border=\"1\" class=\"dataframe\">\n",
              "  <thead>\n",
              "    <tr style=\"text-align: right;\">\n",
              "      <th></th>\n",
              "      <th>MonthlyIncome</th>\n",
              "    </tr>\n",
              "    <tr>\n",
              "      <th>EducationField</th>\n",
              "      <th></th>\n",
              "    </tr>\n",
              "  </thead>\n",
              "  <tbody>\n",
              "    <tr>\n",
              "      <th>Human Resources</th>\n",
              "      <td>7241.148148</td>\n",
              "    </tr>\n",
              "    <tr>\n",
              "      <th>Life Sciences</th>\n",
              "      <td>6463.288779</td>\n",
              "    </tr>\n",
              "    <tr>\n",
              "      <th>Marketing</th>\n",
              "      <td>7348.584906</td>\n",
              "    </tr>\n",
              "    <tr>\n",
              "      <th>Medical</th>\n",
              "      <td>6510.036638</td>\n",
              "    </tr>\n",
              "    <tr>\n",
              "      <th>Other</th>\n",
              "      <td>6071.548780</td>\n",
              "    </tr>\n",
              "    <tr>\n",
              "      <th>Technical Degree</th>\n",
              "      <td>5758.303030</td>\n",
              "    </tr>\n",
              "  </tbody>\n",
              "</table>\n",
              "</div>"
            ],
            "text/plain": [
              "                  MonthlyIncome\n",
              "EducationField                 \n",
              "Human Resources     7241.148148\n",
              "Life Sciences       6463.288779\n",
              "Marketing           7348.584906\n",
              "Medical             6510.036638\n",
              "Other               6071.548780\n",
              "Technical Degree    5758.303030"
            ]
          },
          "execution_count": 21,
          "metadata": {},
          "output_type": "execute_result"
        }
      ],
      "source": [
        "# Monthly Income per Education Field\n",
        "df.groupby('EducationField')[['MonthlyIncome']].mean()"
      ]
    },
    {
      "cell_type": "code",
      "execution_count": 22,
      "metadata": {
        "colab": {
          "base_uri": "https://localhost:8080/",
          "height": 143
        },
        "id": "OjDZpS9UAKz6",
        "outputId": "a1e4ae3d-1f93-4ba5-f636-4344df48d941"
      },
      "outputs": [
        {
          "data": {
            "text/html": [
              "<div>\n",
              "<style scoped>\n",
              "    .dataframe tbody tr th:only-of-type {\n",
              "        vertical-align: middle;\n",
              "    }\n",
              "\n",
              "    .dataframe tbody tr th {\n",
              "        vertical-align: top;\n",
              "    }\n",
              "\n",
              "    .dataframe thead th {\n",
              "        text-align: right;\n",
              "    }\n",
              "</style>\n",
              "<table border=\"1\" class=\"dataframe\">\n",
              "  <thead>\n",
              "    <tr style=\"text-align: right;\">\n",
              "      <th></th>\n",
              "      <th>MonthlyIncome</th>\n",
              "    </tr>\n",
              "    <tr>\n",
              "      <th>Attrition</th>\n",
              "      <th></th>\n",
              "    </tr>\n",
              "  </thead>\n",
              "  <tbody>\n",
              "    <tr>\n",
              "      <th>No</th>\n",
              "      <td>6832.739659</td>\n",
              "    </tr>\n",
              "    <tr>\n",
              "      <th>Yes</th>\n",
              "      <td>4787.092827</td>\n",
              "    </tr>\n",
              "  </tbody>\n",
              "</table>\n",
              "</div>"
            ],
            "text/plain": [
              "           MonthlyIncome\n",
              "Attrition               \n",
              "No           6832.739659\n",
              "Yes          4787.092827"
            ]
          },
          "execution_count": 22,
          "metadata": {},
          "output_type": "execute_result"
        }
      ],
      "source": [
        "# Monthly Income per Attrition\n",
        "df.groupby('Attrition')[['MonthlyIncome']].mean()"
      ]
    },
    {
      "cell_type": "markdown",
      "metadata": {
        "id": "yQLGIo1iDyA5"
      },
      "source": [
        "# Pre-Processing"
      ]
    },
    {
      "cell_type": "code",
      "execution_count": 23,
      "metadata": {
        "colab": {
          "base_uri": "https://localhost:8080/"
        },
        "id": "MN96ycty3BOl",
        "outputId": "054e02f7-0be2-4066-a0e3-d2c1d7df8455"
      },
      "outputs": [
        {
          "name": "stdout",
          "output_type": "stream",
          "text": [
            "<class 'pandas.core.frame.DataFrame'>\n",
            "RangeIndex: 1470 entries, 0 to 1469\n",
            "Data columns (total 35 columns):\n",
            " #   Column                    Non-Null Count  Dtype \n",
            "---  ------                    --------------  ----- \n",
            " 0   Age                       1470 non-null   int64 \n",
            " 1   Attrition                 1470 non-null   object\n",
            " 2   BusinessTravel            1470 non-null   object\n",
            " 3   DailyRate                 1470 non-null   int64 \n",
            " 4   Department                1470 non-null   object\n",
            " 5   DistanceFromHome          1470 non-null   int64 \n",
            " 6   Education                 1470 non-null   int64 \n",
            " 7   EducationField            1470 non-null   object\n",
            " 8   EmployeeCount             1470 non-null   int64 \n",
            " 9   EmployeeNumber            1470 non-null   int64 \n",
            " 10  EnvironmentSatisfaction   1470 non-null   int64 \n",
            " 11  Gender                    1470 non-null   object\n",
            " 12  HourlyRate                1470 non-null   int64 \n",
            " 13  JobInvolvement            1470 non-null   int64 \n",
            " 14  JobLevel                  1470 non-null   int64 \n",
            " 15  JobRole                   1470 non-null   object\n",
            " 16  JobSatisfaction           1470 non-null   int64 \n",
            " 17  MaritalStatus             1470 non-null   object\n",
            " 18  MonthlyIncome             1470 non-null   int64 \n",
            " 19  MonthlyRate               1470 non-null   int64 \n",
            " 20  NumCompaniesWorked        1470 non-null   int64 \n",
            " 21  Over18                    1470 non-null   object\n",
            " 22  OverTime                  1470 non-null   object\n",
            " 23  PercentSalaryHike         1470 non-null   int64 \n",
            " 24  PerformanceRating         1470 non-null   int64 \n",
            " 25  RelationshipSatisfaction  1470 non-null   int64 \n",
            " 26  StandardHours             1470 non-null   int64 \n",
            " 27  StockOptionLevel          1470 non-null   int64 \n",
            " 28  TotalWorkingYears         1470 non-null   int64 \n",
            " 29  TrainingTimesLastYear     1470 non-null   int64 \n",
            " 30  WorkLifeBalance           1470 non-null   int64 \n",
            " 31  YearsAtCompany            1470 non-null   int64 \n",
            " 32  YearsInCurrentRole        1470 non-null   int64 \n",
            " 33  YearsSinceLastPromotion   1470 non-null   int64 \n",
            " 34  YearsWithCurrManager      1470 non-null   int64 \n",
            "dtypes: int64(26), object(9)\n",
            "memory usage: 402.1+ KB\n"
          ]
        }
      ],
      "source": [
        "df.info()"
      ]
    },
    {
      "cell_type": "code",
      "execution_count": 24,
      "metadata": {
        "colab": {
          "base_uri": "https://localhost:8080/",
          "height": 99
        },
        "id": "JeT02_2A3tkf",
        "outputId": "6e774358-d21f-4161-d272-a027e9ab6f9b"
      },
      "outputs": [
        {
          "data": {
            "text/html": [
              "<div>\n",
              "<style scoped>\n",
              "    .dataframe tbody tr th:only-of-type {\n",
              "        vertical-align: middle;\n",
              "    }\n",
              "\n",
              "    .dataframe tbody tr th {\n",
              "        vertical-align: top;\n",
              "    }\n",
              "\n",
              "    .dataframe thead th {\n",
              "        text-align: right;\n",
              "    }\n",
              "</style>\n",
              "<table border=\"1\" class=\"dataframe\">\n",
              "  <thead>\n",
              "    <tr style=\"text-align: right;\">\n",
              "      <th></th>\n",
              "      <th>Age</th>\n",
              "      <th>Attrition</th>\n",
              "      <th>BusinessTravel</th>\n",
              "      <th>DailyRate</th>\n",
              "      <th>Department</th>\n",
              "      <th>DistanceFromHome</th>\n",
              "      <th>Education</th>\n",
              "      <th>EducationField</th>\n",
              "      <th>EmployeeCount</th>\n",
              "      <th>EmployeeNumber</th>\n",
              "      <th>...</th>\n",
              "      <th>RelationshipSatisfaction</th>\n",
              "      <th>StandardHours</th>\n",
              "      <th>StockOptionLevel</th>\n",
              "      <th>TotalWorkingYears</th>\n",
              "      <th>TrainingTimesLastYear</th>\n",
              "      <th>WorkLifeBalance</th>\n",
              "      <th>YearsAtCompany</th>\n",
              "      <th>YearsInCurrentRole</th>\n",
              "      <th>YearsSinceLastPromotion</th>\n",
              "      <th>YearsWithCurrManager</th>\n",
              "    </tr>\n",
              "  </thead>\n",
              "  <tbody>\n",
              "  </tbody>\n",
              "</table>\n",
              "<p>0 rows × 35 columns</p>\n",
              "</div>"
            ],
            "text/plain": [
              "Empty DataFrame\n",
              "Columns: [Age, Attrition, BusinessTravel, DailyRate, Department, DistanceFromHome, Education, EducationField, EmployeeCount, EmployeeNumber, EnvironmentSatisfaction, Gender, HourlyRate, JobInvolvement, JobLevel, JobRole, JobSatisfaction, MaritalStatus, MonthlyIncome, MonthlyRate, NumCompaniesWorked, Over18, OverTime, PercentSalaryHike, PerformanceRating, RelationshipSatisfaction, StandardHours, StockOptionLevel, TotalWorkingYears, TrainingTimesLastYear, WorkLifeBalance, YearsAtCompany, YearsInCurrentRole, YearsSinceLastPromotion, YearsWithCurrManager]\n",
              "Index: []\n",
              "\n",
              "[0 rows x 35 columns]"
            ]
          },
          "execution_count": 24,
          "metadata": {},
          "output_type": "execute_result"
        }
      ],
      "source": [
        "# checking nan\n",
        "df[df.isnull().any(axis=1)]"
      ]
    },
    {
      "cell_type": "markdown",
      "metadata": {
        "id": "V3P5o3ldD3Kq"
      },
      "source": [
        "## Normalizing"
      ]
    },
    {
      "cell_type": "code",
      "execution_count": 25,
      "metadata": {
        "id": "TIBQmRQd30Tf"
      },
      "outputs": [],
      "source": [
        "# Split numerical and categorical columns\n",
        "numerical_cols = df.select_dtypes(include=['number']).columns\n",
        "categorical_cols = df.select_dtypes(include=['object']).columns"
      ]
    },
    {
      "cell_type": "code",
      "execution_count": 26,
      "metadata": {
        "colab": {
          "base_uri": "https://localhost:8080/"
        },
        "id": "6yA5kejw4exc",
        "outputId": "af18c1d8-7333-4ea5-971c-4480a92fd36a"
      },
      "outputs": [
        {
          "data": {
            "text/plain": [
              "Index(['Age', 'DailyRate', 'DistanceFromHome', 'Education', 'EmployeeCount',\n",
              "       'EmployeeNumber', 'EnvironmentSatisfaction', 'HourlyRate',\n",
              "       'JobInvolvement', 'JobLevel', 'JobSatisfaction', 'MonthlyIncome',\n",
              "       'MonthlyRate', 'NumCompaniesWorked', 'PercentSalaryHike',\n",
              "       'PerformanceRating', 'RelationshipSatisfaction', 'StandardHours',\n",
              "       'StockOptionLevel', 'TotalWorkingYears', 'TrainingTimesLastYear',\n",
              "       'WorkLifeBalance', 'YearsAtCompany', 'YearsInCurrentRole',\n",
              "       'YearsSinceLastPromotion', 'YearsWithCurrManager'],\n",
              "      dtype='object')"
            ]
          },
          "execution_count": 26,
          "metadata": {},
          "output_type": "execute_result"
        }
      ],
      "source": [
        "numerical_cols"
      ]
    },
    {
      "cell_type": "code",
      "execution_count": 27,
      "metadata": {
        "colab": {
          "base_uri": "https://localhost:8080/"
        },
        "id": "nJbE7VuG4gxV",
        "outputId": "26fba5c1-0f6c-4a11-998b-18699fadc7ef"
      },
      "outputs": [
        {
          "data": {
            "text/plain": [
              "Index(['Attrition', 'BusinessTravel', 'Department', 'EducationField', 'Gender',\n",
              "       'JobRole', 'MaritalStatus', 'Over18', 'OverTime'],\n",
              "      dtype='object')"
            ]
          },
          "execution_count": 27,
          "metadata": {},
          "output_type": "execute_result"
        }
      ],
      "source": [
        "categorical_cols"
      ]
    },
    {
      "cell_type": "code",
      "execution_count": 28,
      "metadata": {
        "colab": {
          "base_uri": "https://localhost:8080/"
        },
        "id": "IrheiFau4jXu",
        "outputId": "a3c020ff-8b2a-44f6-d446-90befee09bc3"
      },
      "outputs": [
        {
          "name": "stdout",
          "output_type": "stream",
          "text": [
            "['Yes' 'No']\n",
            "['Travel_Rarely' 'Travel_Frequently' 'Non-Travel']\n",
            "['Sales' 'Research & Development' 'Human Resources']\n",
            "['Life Sciences' 'Other' 'Medical' 'Marketing' 'Technical Degree'\n",
            " 'Human Resources']\n",
            "['Female' 'Male']\n",
            "['Sales Executive' 'Research Scientist' 'Laboratory Technician'\n",
            " 'Manufacturing Director' 'Healthcare Representative' 'Manager'\n",
            " 'Sales Representative' 'Research Director' 'Human Resources']\n",
            "['Single' 'Married' 'Divorced']\n",
            "['Y']\n",
            "['Yes' 'No']\n"
          ]
        }
      ],
      "source": [
        "print(df['Attrition'].unique())\n",
        "print(df['BusinessTravel'].unique())\n",
        "print(df['Department'].unique())\n",
        "print(df['EducationField'].unique())\n",
        "print(df['Gender'].unique())\n",
        "print(df['JobRole'].unique())\n",
        "print(df['MaritalStatus'].unique())\n",
        "print(df['Over18'].unique())\n",
        "print(df['OverTime'].unique())"
      ]
    },
    {
      "cell_type": "code",
      "execution_count": 29,
      "metadata": {
        "colab": {
          "base_uri": "https://localhost:8080/"
        },
        "id": "YL29RhNWOKTQ",
        "outputId": "0499be40-7fed-4271-8316-68be61911af6"
      },
      "outputs": [
        {
          "name": "stdout",
          "output_type": "stream",
          "text": [
            "<class 'pandas.core.frame.DataFrame'>\n",
            "RangeIndex: 1470 entries, 0 to 1469\n",
            "Data columns (total 35 columns):\n",
            " #   Column                    Non-Null Count  Dtype\n",
            "---  ------                    --------------  -----\n",
            " 0   Age                       1470 non-null   int64\n",
            " 1   Attrition                 1470 non-null   int64\n",
            " 2   BusinessTravel            1470 non-null   int64\n",
            " 3   DailyRate                 1470 non-null   int64\n",
            " 4   Department                1470 non-null   int64\n",
            " 5   DistanceFromHome          1470 non-null   int64\n",
            " 6   Education                 1470 non-null   int64\n",
            " 7   EducationField            1470 non-null   int64\n",
            " 8   EmployeeCount             1470 non-null   int64\n",
            " 9   EmployeeNumber            1470 non-null   int64\n",
            " 10  EnvironmentSatisfaction   1470 non-null   int64\n",
            " 11  Gender                    1470 non-null   int64\n",
            " 12  HourlyRate                1470 non-null   int64\n",
            " 13  JobInvolvement            1470 non-null   int64\n",
            " 14  JobLevel                  1470 non-null   int64\n",
            " 15  JobRole                   1470 non-null   int64\n",
            " 16  JobSatisfaction           1470 non-null   int64\n",
            " 17  MaritalStatus             1470 non-null   int64\n",
            " 18  MonthlyIncome             1470 non-null   int64\n",
            " 19  MonthlyRate               1470 non-null   int64\n",
            " 20  NumCompaniesWorked        1470 non-null   int64\n",
            " 21  Over18                    1470 non-null   int64\n",
            " 22  OverTime                  1470 non-null   int64\n",
            " 23  PercentSalaryHike         1470 non-null   int64\n",
            " 24  PerformanceRating         1470 non-null   int64\n",
            " 25  RelationshipSatisfaction  1470 non-null   int64\n",
            " 26  StandardHours             1470 non-null   int64\n",
            " 27  StockOptionLevel          1470 non-null   int64\n",
            " 28  TotalWorkingYears         1470 non-null   int64\n",
            " 29  TrainingTimesLastYear     1470 non-null   int64\n",
            " 30  WorkLifeBalance           1470 non-null   int64\n",
            " 31  YearsAtCompany            1470 non-null   int64\n",
            " 32  YearsInCurrentRole        1470 non-null   int64\n",
            " 33  YearsSinceLastPromotion   1470 non-null   int64\n",
            " 34  YearsWithCurrManager      1470 non-null   int64\n",
            "dtypes: int64(35)\n",
            "memory usage: 402.1 KB\n"
          ]
        }
      ],
      "source": [
        "# Using LabelEncoder for the categorical columns\n",
        "labelencoder = LabelEncoder()\n",
        "for j in df.columns:\n",
        "  if df[j].dtype == 'object':\n",
        "    df[j] = labelencoder.fit_transform(df[j])\n",
        "\n",
        "df.info()"
      ]
    },
    {
      "cell_type": "code",
      "execution_count": 30,
      "metadata": {
        "colab": {
          "base_uri": "https://localhost:8080/",
          "height": 256
        },
        "id": "jGG3-PjDOMdP",
        "outputId": "900c29c5-6444-4bc5-8532-b98f56ace0cb"
      },
      "outputs": [
        {
          "data": {
            "text/html": [
              "<div>\n",
              "<style scoped>\n",
              "    .dataframe tbody tr th:only-of-type {\n",
              "        vertical-align: middle;\n",
              "    }\n",
              "\n",
              "    .dataframe tbody tr th {\n",
              "        vertical-align: top;\n",
              "    }\n",
              "\n",
              "    .dataframe thead th {\n",
              "        text-align: right;\n",
              "    }\n",
              "</style>\n",
              "<table border=\"1\" class=\"dataframe\">\n",
              "  <thead>\n",
              "    <tr style=\"text-align: right;\">\n",
              "      <th></th>\n",
              "      <th>Age</th>\n",
              "      <th>Attrition</th>\n",
              "      <th>BusinessTravel</th>\n",
              "      <th>DailyRate</th>\n",
              "      <th>Department</th>\n",
              "      <th>DistanceFromHome</th>\n",
              "      <th>Education</th>\n",
              "      <th>EducationField</th>\n",
              "      <th>EmployeeCount</th>\n",
              "      <th>EmployeeNumber</th>\n",
              "      <th>...</th>\n",
              "      <th>RelationshipSatisfaction</th>\n",
              "      <th>StandardHours</th>\n",
              "      <th>StockOptionLevel</th>\n",
              "      <th>TotalWorkingYears</th>\n",
              "      <th>TrainingTimesLastYear</th>\n",
              "      <th>WorkLifeBalance</th>\n",
              "      <th>YearsAtCompany</th>\n",
              "      <th>YearsInCurrentRole</th>\n",
              "      <th>YearsSinceLastPromotion</th>\n",
              "      <th>YearsWithCurrManager</th>\n",
              "    </tr>\n",
              "  </thead>\n",
              "  <tbody>\n",
              "    <tr>\n",
              "      <th>0</th>\n",
              "      <td>0.446350</td>\n",
              "      <td>1</td>\n",
              "      <td>2</td>\n",
              "      <td>0.742527</td>\n",
              "      <td>2</td>\n",
              "      <td>-1.010909</td>\n",
              "      <td>-0.891688</td>\n",
              "      <td>1</td>\n",
              "      <td>0.0</td>\n",
              "      <td>-1.701283</td>\n",
              "      <td>...</td>\n",
              "      <td>-1.584178</td>\n",
              "      <td>0.0</td>\n",
              "      <td>-0.932014</td>\n",
              "      <td>-0.421642</td>\n",
              "      <td>-2.171982</td>\n",
              "      <td>-2.493820</td>\n",
              "      <td>-0.164613</td>\n",
              "      <td>-0.063296</td>\n",
              "      <td>-0.679146</td>\n",
              "      <td>0.245834</td>\n",
              "    </tr>\n",
              "    <tr>\n",
              "      <th>1</th>\n",
              "      <td>1.322365</td>\n",
              "      <td>0</td>\n",
              "      <td>1</td>\n",
              "      <td>-1.297775</td>\n",
              "      <td>1</td>\n",
              "      <td>-0.147150</td>\n",
              "      <td>-1.868426</td>\n",
              "      <td>1</td>\n",
              "      <td>0.0</td>\n",
              "      <td>-1.699621</td>\n",
              "      <td>...</td>\n",
              "      <td>1.191438</td>\n",
              "      <td>0.0</td>\n",
              "      <td>0.241988</td>\n",
              "      <td>-0.164511</td>\n",
              "      <td>0.155707</td>\n",
              "      <td>0.338096</td>\n",
              "      <td>0.488508</td>\n",
              "      <td>0.764998</td>\n",
              "      <td>-0.368715</td>\n",
              "      <td>0.806541</td>\n",
              "    </tr>\n",
              "    <tr>\n",
              "      <th>2</th>\n",
              "      <td>0.008343</td>\n",
              "      <td>1</td>\n",
              "      <td>2</td>\n",
              "      <td>1.414363</td>\n",
              "      <td>1</td>\n",
              "      <td>-0.887515</td>\n",
              "      <td>-0.891688</td>\n",
              "      <td>4</td>\n",
              "      <td>0.0</td>\n",
              "      <td>-1.696298</td>\n",
              "      <td>...</td>\n",
              "      <td>-0.658973</td>\n",
              "      <td>0.0</td>\n",
              "      <td>-0.932014</td>\n",
              "      <td>-0.550208</td>\n",
              "      <td>0.155707</td>\n",
              "      <td>0.338096</td>\n",
              "      <td>-1.144294</td>\n",
              "      <td>-1.167687</td>\n",
              "      <td>-0.679146</td>\n",
              "      <td>-1.155935</td>\n",
              "    </tr>\n",
              "    <tr>\n",
              "      <th>3</th>\n",
              "      <td>-0.429664</td>\n",
              "      <td>0</td>\n",
              "      <td>1</td>\n",
              "      <td>1.461466</td>\n",
              "      <td>1</td>\n",
              "      <td>-0.764121</td>\n",
              "      <td>1.061787</td>\n",
              "      <td>1</td>\n",
              "      <td>0.0</td>\n",
              "      <td>-1.694636</td>\n",
              "      <td>...</td>\n",
              "      <td>0.266233</td>\n",
              "      <td>0.0</td>\n",
              "      <td>-0.932014</td>\n",
              "      <td>-0.421642</td>\n",
              "      <td>0.155707</td>\n",
              "      <td>0.338096</td>\n",
              "      <td>0.161947</td>\n",
              "      <td>0.764998</td>\n",
              "      <td>0.252146</td>\n",
              "      <td>-1.155935</td>\n",
              "    </tr>\n",
              "    <tr>\n",
              "      <th>4</th>\n",
              "      <td>-1.086676</td>\n",
              "      <td>0</td>\n",
              "      <td>2</td>\n",
              "      <td>-0.524295</td>\n",
              "      <td>1</td>\n",
              "      <td>-0.887515</td>\n",
              "      <td>-1.868426</td>\n",
              "      <td>3</td>\n",
              "      <td>0.0</td>\n",
              "      <td>-1.691313</td>\n",
              "      <td>...</td>\n",
              "      <td>1.191438</td>\n",
              "      <td>0.0</td>\n",
              "      <td>0.241988</td>\n",
              "      <td>-0.678774</td>\n",
              "      <td>0.155707</td>\n",
              "      <td>0.338096</td>\n",
              "      <td>-0.817734</td>\n",
              "      <td>-0.615492</td>\n",
              "      <td>-0.058285</td>\n",
              "      <td>-0.595227</td>\n",
              "    </tr>\n",
              "  </tbody>\n",
              "</table>\n",
              "<p>5 rows × 35 columns</p>\n",
              "</div>"
            ],
            "text/plain": [
              "        Age  Attrition  BusinessTravel  DailyRate  Department  \\\n",
              "0  0.446350          1               2   0.742527           2   \n",
              "1  1.322365          0               1  -1.297775           1   \n",
              "2  0.008343          1               2   1.414363           1   \n",
              "3 -0.429664          0               1   1.461466           1   \n",
              "4 -1.086676          0               2  -0.524295           1   \n",
              "\n",
              "   DistanceFromHome  Education  EducationField  EmployeeCount  EmployeeNumber  \\\n",
              "0         -1.010909  -0.891688               1            0.0       -1.701283   \n",
              "1         -0.147150  -1.868426               1            0.0       -1.699621   \n",
              "2         -0.887515  -0.891688               4            0.0       -1.696298   \n",
              "3         -0.764121   1.061787               1            0.0       -1.694636   \n",
              "4         -0.887515  -1.868426               3            0.0       -1.691313   \n",
              "\n",
              "   ...  RelationshipSatisfaction  StandardHours  StockOptionLevel  \\\n",
              "0  ...                 -1.584178            0.0         -0.932014   \n",
              "1  ...                  1.191438            0.0          0.241988   \n",
              "2  ...                 -0.658973            0.0         -0.932014   \n",
              "3  ...                  0.266233            0.0         -0.932014   \n",
              "4  ...                  1.191438            0.0          0.241988   \n",
              "\n",
              "   TotalWorkingYears  TrainingTimesLastYear  WorkLifeBalance  YearsAtCompany  \\\n",
              "0          -0.421642              -2.171982        -2.493820       -0.164613   \n",
              "1          -0.164511               0.155707         0.338096        0.488508   \n",
              "2          -0.550208               0.155707         0.338096       -1.144294   \n",
              "3          -0.421642               0.155707         0.338096        0.161947   \n",
              "4          -0.678774               0.155707         0.338096       -0.817734   \n",
              "\n",
              "   YearsInCurrentRole  YearsSinceLastPromotion  YearsWithCurrManager  \n",
              "0           -0.063296                -0.679146              0.245834  \n",
              "1            0.764998                -0.368715              0.806541  \n",
              "2           -1.167687                -0.679146             -1.155935  \n",
              "3            0.764998                 0.252146             -1.155935  \n",
              "4           -0.615492                -0.058285             -0.595227  \n",
              "\n",
              "[5 rows x 35 columns]"
            ]
          },
          "execution_count": 30,
          "metadata": {},
          "output_type": "execute_result"
        }
      ],
      "source": [
        "# Using StandardScaler for nomalization of the numerical columns\n",
        "scaler = StandardScaler()\n",
        "ajuste = scaler.fit(df[numerical_cols])\n",
        "df[numerical_cols] = ajuste.transform(df[numerical_cols])\n",
        "\n",
        "df.head()"
      ]
    },
    {
      "cell_type": "code",
      "execution_count": 31,
      "metadata": {
        "colab": {
          "base_uri": "https://localhost:8080/"
        },
        "id": "-yCxGmIZkKvL",
        "outputId": "15d3d74e-e38d-46f0-cb60-0cd6f830ff3b"
      },
      "outputs": [
        {
          "name": "stdout",
          "output_type": "stream",
          "text": [
            "Constant columns dropped: ['EmployeeCount', 'Over18', 'StandardHours']\n"
          ]
        }
      ],
      "source": [
        "# Dropping collumns with just one unique value\n",
        "constant_columns = []\n",
        "for column in df.columns:\n",
        "    unique_values = df[column].unique()\n",
        "    if len(unique_values) == 1:\n",
        "        constant_columns.append(column)\n",
        "\n",
        "df.drop(columns=constant_columns, inplace=True)\n",
        "\n",
        "print(\"Constant columns dropped:\", constant_columns)"
      ]
    },
    {
      "cell_type": "markdown",
      "metadata": {
        "id": "u6vG4prm0zSl"
      },
      "source": [
        "## Splitting train and test"
      ]
    },
    {
      "cell_type": "code",
      "execution_count": 32,
      "metadata": {
        "id": "KOBI21aA2pTS"
      },
      "outputs": [],
      "source": [
        "X = df.drop(['Attrition'], axis=1)\n",
        "y = df['Attrition']"
      ]
    },
    {
      "cell_type": "code",
      "execution_count": 33,
      "metadata": {
        "id": "bZ48m1Bl02Ra"
      },
      "outputs": [],
      "source": [
        "X_train, X_test, y_train, y_test = train_test_split(X, y, test_size=0.3)"
      ]
    },
    {
      "cell_type": "code",
      "execution_count": 34,
      "metadata": {
        "id": "oA4tm5lEFZhN"
      },
      "outputs": [],
      "source": [
        "sm = SMOTE()\n",
        "X_train, y_train = sm.fit_resample(X_train, y_train)"
      ]
    },
    {
      "cell_type": "markdown",
      "metadata": {
        "id": "gUBd0QN00bDI"
      },
      "source": [
        "## Random Forest"
      ]
    },
    {
      "cell_type": "code",
      "execution_count": 35,
      "metadata": {
        "id": "JfFh_WnLYzCo"
      },
      "outputs": [],
      "source": [
        "random_state = 2"
      ]
    },
    {
      "cell_type": "code",
      "execution_count": 36,
      "metadata": {
        "id": "r1iJyo6O0dGr"
      },
      "outputs": [],
      "source": [
        "# Random Forest\n",
        "CLF = RandomForestClassifier(n_estimators = 100,random_state=random_state)\n",
        "CLF.fit(X_train, y_train)\n",
        "CLF_pred = CLF.predict(X_test)"
      ]
    },
    {
      "cell_type": "markdown",
      "metadata": {
        "id": "8p98htEzz8aN"
      },
      "source": [
        "## Feature Selection"
      ]
    },
    {
      "cell_type": "code",
      "execution_count": 37,
      "metadata": {
        "id": "ZdIYuk1C0D96"
      },
      "outputs": [],
      "source": [
        "# Mutual Information\n",
        "mi = SelectKBest(mutual_info_classif, k=15)\n",
        "\n",
        "#SmartC\n",
        "smartC = SmartCorrelatedSelection(\n",
        "    variables=None,\n",
        "    method=\"pearson\",\n",
        "    threshold=0.8\n",
        ")\n",
        "\n",
        "# SequentialFeatureSelector\n",
        "sfs = SFS(\n",
        "    estimator=CLF,\n",
        "    n_features_to_select=15,\n",
        "    direction='forward',\n",
        "    scoring='f1'\n",
        ")"
      ]
    },
    {
      "cell_type": "markdown",
      "metadata": {
        "id": "KGg9LIO42jYd"
      },
      "source": [
        "## Pipeline"
      ]
    },
    {
      "cell_type": "code",
      "execution_count": 38,
      "metadata": {
        "id": "xAfzsMlM2voc"
      },
      "outputs": [],
      "source": [
        "# Mutual Information\n",
        "CLF1 = Pipeline([('mi', mi),\n",
        "                 ('rf', CLF)])\n",
        "CLF1.fit(X_train, y_train)\n",
        "CLF1_pred = CLF1.predict(X_test)\n",
        "\n",
        "# SmartC\n",
        "CLF2 = Pipeline([('SmartC', smartC),\n",
        "                 ('rf', CLF)])\n",
        "CLF2.fit(X_train, y_train)\n",
        "CLF2_pred = CLF2.predict(X_test)\n",
        "\n",
        "# SequentialFeatureSelector\n",
        "CLF3 = Pipeline([('sfs', sfs),\n",
        "                 ('rf', CLF)])\n",
        "CLF3.fit(X_train, y_train)\n",
        "CLF3_pred = CLF3.predict(X_test)"
      ]
    },
    {
      "cell_type": "code",
      "execution_count": 39,
      "metadata": {
        "colab": {
          "base_uri": "https://localhost:8080/"
        },
        "id": "Z9SUrhYV3XkO",
        "outputId": "0bea4420-7493-4013-8347-6a587f8ee1d3"
      },
      "outputs": [
        {
          "name": "stdout",
          "output_type": "stream",
          "text": [
            "Random Forest / Mutual Information\n",
            "              precision    recall  f1-score   support\n",
            "\n",
            "           0       0.87      0.96      0.91       375\n",
            "           1       0.44      0.17      0.24        66\n",
            "\n",
            "    accuracy                           0.84       441\n",
            "   macro avg       0.65      0.56      0.58       441\n",
            "weighted avg       0.80      0.84      0.81       441\n",
            "\n",
            "\n",
            "Random Forest / SmartC\n",
            "              precision    recall  f1-score   support\n",
            "\n",
            "           0       0.87      0.96      0.91       375\n",
            "           1       0.41      0.17      0.24        66\n",
            "\n",
            "    accuracy                           0.84       441\n",
            "   macro avg       0.64      0.56      0.57       441\n",
            "weighted avg       0.80      0.84      0.81       441\n",
            "\n",
            "\n",
            "Random Forest / SFS\n",
            "              precision    recall  f1-score   support\n",
            "\n",
            "           0       0.88      0.94      0.91       375\n",
            "           1       0.44      0.29      0.35        66\n",
            "\n",
            "    accuracy                           0.84       441\n",
            "   macro avg       0.66      0.61      0.63       441\n",
            "weighted avg       0.82      0.84      0.82       441\n",
            "\n"
          ]
        }
      ],
      "source": [
        "from sklearn.metrics import classification_report\n",
        "\n",
        "print('Random Forest / Mutual Information')\n",
        "print(classification_report(y_test,CLF1_pred))\n",
        "print()\n",
        "print('Random Forest / SmartC')\n",
        "print(classification_report(y_test,CLF2_pred))\n",
        "print()\n",
        "print('Random Forest / SFS')\n",
        "print(classification_report(y_test,CLF3_pred))"
      ]
    },
    {
      "cell_type": "markdown",
      "metadata": {
        "id": "PU24k8T64n5v"
      },
      "source": [
        "## Venn Diagram"
      ]
    },
    {
      "cell_type": "code",
      "execution_count": 40,
      "metadata": {
        "id": "S6vAszDA4sNg"
      },
      "outputs": [],
      "source": [
        "featuresMutualInfromation = CLF1[:-1].get_feature_names_out()\n",
        "featuresSmartC = CLF2[:-1].get_feature_names_out()\n",
        "featuresSFS = CLF3[:-1].get_feature_names_out()"
      ]
    },
    {
      "cell_type": "code",
      "execution_count": 41,
      "metadata": {
        "colab": {
          "base_uri": "https://localhost:8080/",
          "height": 596
        },
        "id": "PdzceHmP41Gk",
        "outputId": "ab14a64f-6516-4765-d08a-f32911342b9a"
      },
      "outputs": [
        {
          "data": {
            "image/png": "[encoded data removed]",
            "text/plain": [
              "<Figure size 700x700 with 1 Axes>"
            ]
          },
          "metadata": {},
          "output_type": "display_data"
        }
      ],
      "source": [
        "sets = {\n",
        "    'Mutual_Information': set(featuresMutualInfromation),\n",
        "    'Smart Correlated': set(featuresSmartC),\n",
        "    'SFS': set(featuresSFS),\n",
        "}\n",
        "\n",
        "venny4py(sets=sets)"
      ]
    },
    {
      "cell_type": "code",
      "execution_count": 42,
      "metadata": {
        "colab": {
          "base_uri": "https://localhost:8080/"
        },
        "id": "Y6Yo40-B6KCR",
        "outputId": "9293960e-3466-4f7b-8f0f-f5d819f77cfd"
      },
      "outputs": [
        {
          "data": {
            "text/plain": [
              "['YearsAtCompany',\n",
              " 'YearsWithCurrManager',\n",
              " 'TotalWorkingYears',\n",
              " 'JobSatisfaction',\n",
              " 'NumCompaniesWorked',\n",
              " 'Age']"
            ]
          },
          "execution_count": 42,
          "metadata": {},
          "output_type": "execute_result"
        }
      ],
      "source": [
        "# Similar Features\n",
        "best_features = list(set(featuresMutualInfromation).intersection(featuresSmartC, featuresSFS))\n",
        "best_features"
      ]
    },
    {
      "cell_type": "markdown",
      "metadata": {
        "id": "3f0oTHRE66fE"
      },
      "source": [
        "# Model"
      ]
    },
    {
      "cell_type": "code",
      "execution_count": 43,
      "metadata": {
        "colab": {
          "base_uri": "https://localhost:8080/",
          "height": 206
        },
        "id": "mUatove269BY",
        "outputId": "380c2acf-f94a-4be5-d23c-0ae70c85f844"
      },
      "outputs": [
        {
          "data": {
            "text/html": [
              "<div>\n",
              "<style scoped>\n",
              "    .dataframe tbody tr th:only-of-type {\n",
              "        vertical-align: middle;\n",
              "    }\n",
              "\n",
              "    .dataframe tbody tr th {\n",
              "        vertical-align: top;\n",
              "    }\n",
              "\n",
              "    .dataframe thead th {\n",
              "        text-align: right;\n",
              "    }\n",
              "</style>\n",
              "<table border=\"1\" class=\"dataframe\">\n",
              "  <thead>\n",
              "    <tr style=\"text-align: right;\">\n",
              "      <th></th>\n",
              "      <th>Attrition</th>\n",
              "      <th>YearsAtCompany</th>\n",
              "      <th>YearsWithCurrManager</th>\n",
              "      <th>TotalWorkingYears</th>\n",
              "      <th>JobSatisfaction</th>\n",
              "      <th>NumCompaniesWorked</th>\n",
              "      <th>Age</th>\n",
              "    </tr>\n",
              "  </thead>\n",
              "  <tbody>\n",
              "    <tr>\n",
              "      <th>0</th>\n",
              "      <td>1</td>\n",
              "      <td>-0.164613</td>\n",
              "      <td>0.245834</td>\n",
              "      <td>-0.421642</td>\n",
              "      <td>1.153254</td>\n",
              "      <td>2.125136</td>\n",
              "      <td>0.446350</td>\n",
              "    </tr>\n",
              "    <tr>\n",
              "      <th>1</th>\n",
              "      <td>0</td>\n",
              "      <td>0.488508</td>\n",
              "      <td>0.806541</td>\n",
              "      <td>-0.164511</td>\n",
              "      <td>-0.660853</td>\n",
              "      <td>-0.678049</td>\n",
              "      <td>1.322365</td>\n",
              "    </tr>\n",
              "    <tr>\n",
              "      <th>2</th>\n",
              "      <td>1</td>\n",
              "      <td>-1.144294</td>\n",
              "      <td>-1.155935</td>\n",
              "      <td>-0.550208</td>\n",
              "      <td>0.246200</td>\n",
              "      <td>1.324226</td>\n",
              "      <td>0.008343</td>\n",
              "    </tr>\n",
              "    <tr>\n",
              "      <th>3</th>\n",
              "      <td>0</td>\n",
              "      <td>0.161947</td>\n",
              "      <td>-1.155935</td>\n",
              "      <td>-0.421642</td>\n",
              "      <td>0.246200</td>\n",
              "      <td>-0.678049</td>\n",
              "      <td>-0.429664</td>\n",
              "    </tr>\n",
              "    <tr>\n",
              "      <th>4</th>\n",
              "      <td>0</td>\n",
              "      <td>-0.817734</td>\n",
              "      <td>-0.595227</td>\n",
              "      <td>-0.678774</td>\n",
              "      <td>-0.660853</td>\n",
              "      <td>2.525591</td>\n",
              "      <td>-1.086676</td>\n",
              "    </tr>\n",
              "  </tbody>\n",
              "</table>\n",
              "</div>"
            ],
            "text/plain": [
              "   Attrition  YearsAtCompany  YearsWithCurrManager  TotalWorkingYears  \\\n",
              "0          1       -0.164613              0.245834          -0.421642   \n",
              "1          0        0.488508              0.806541          -0.164511   \n",
              "2          1       -1.144294             -1.155935          -0.550208   \n",
              "3          0        0.161947             -1.155935          -0.421642   \n",
              "4          0       -0.817734             -0.595227          -0.678774   \n",
              "\n",
              "   JobSatisfaction  NumCompaniesWorked       Age  \n",
              "0         1.153254            2.125136  0.446350  \n",
              "1        -0.660853           -0.678049  1.322365  \n",
              "2         0.246200            1.324226  0.008343  \n",
              "3         0.246200           -0.678049 -0.429664  \n",
              "4        -0.660853            2.525591 -1.086676  "
            ]
          },
          "execution_count": 43,
          "metadata": {},
          "output_type": "execute_result"
        }
      ],
      "source": [
        "# Creating a dataframe with just the best features selected\n",
        "df_best = df[['Attrition'] + best_features]\n",
        "df_best.head()"
      ]
    },
    {
      "cell_type": "code",
      "execution_count": 44,
      "metadata": {
        "id": "VRr6Wj48qbj-"
      },
      "outputs": [],
      "source": [
        "# Splitting the new dataframe in train and test\n",
        "X = df_best.drop(['Attrition'], axis=1)\n",
        "y = df_best['Attrition']\n",
        "\n",
        "X_train, X_test, y_train, y_test = train_test_split(X, y, test_size=0.3)\n",
        "\n",
        "sm = SMOTE()\n",
        "X_train, y_train = sm.fit_resample(X_train, y_train)"
      ]
    },
    {
      "cell_type": "code",
      "execution_count": 45,
      "metadata": {
        "id": "pETl6cAP3KJM"
      },
      "outputs": [],
      "source": [
        "skf = StratifiedKFold(n_splits=10, shuffle=True)"
      ]
    },
    {
      "cell_type": "code",
      "execution_count": 46,
      "metadata": {
        "id": "vdbWMO-Rt5Ao"
      },
      "outputs": [],
      "source": [
        "# Random Forest\n",
        "forest = RandomForestClassifier(n_estimators = 100, random_state=random_state)\n",
        "\n",
        "# KNN\n",
        "knn = KNeighborsClassifier(n_neighbors=15)\n",
        "\n",
        "# DecisionTree\n",
        "dt = DecisionTreeClassifier(random_state=random_state)"
      ]
    },
    {
      "cell_type": "code",
      "execution_count": 47,
      "metadata": {
        "id": "m_liTEa1uq2E"
      },
      "outputs": [],
      "source": [
        "def grid_random(clf):\n",
        "\n",
        "  # setting param_grid\n",
        "  if clf == forest:\n",
        "    param_grid = {'criterion': ['gini', 'entropy', 'log_loss'],\n",
        "              'class_weight' : ['balanced', 'balanced_subsample', None],\n",
        "              'max_features': ['sqrt','log2', None]}\n",
        "  elif clf == knn:\n",
        "    param_grid = {'weights': ['uniform', 'distance', None],\n",
        "              'algorithm': ['auto', 'ball_tree', 'kd_tree', 'brute']}\n",
        "  elif clf == dt:\n",
        "    param_grid = {'criterion': ['gini', 'entropy', 'log_loss'],\n",
        "              'splitter': ['best', 'random'],\n",
        "              'max_features': ['sqrt','log2', None]}\n",
        "  else:\n",
        "    return print('Not a KNN, Random Forest or Decision Tree Classifier')\n",
        "\n",
        "  g_search = GridSearchCV(estimator = clf,\n",
        "                        param_grid = param_grid,\n",
        "                        refit=True,\n",
        "                        cv = skf,\n",
        "                        return_train_score=True)\n",
        "\n",
        "  r_search = RandomizedSearchCV(estimator = clf,\n",
        "                              param_distributions = param_grid,\n",
        "                              cv = skf,\n",
        "                              refit=True,\n",
        "                              return_train_score=True)\n",
        "\n",
        "  g_search.fit(X_train, y_train)\n",
        "  y_pred_grid = g_search.predict(X_test)\n",
        "\n",
        "  r_search.fit(X_train, y_train)\n",
        "  y_pred_random = r_search.predict(X_test)\n",
        "\n",
        "  print('Grid Search Best Parameters:', g_search.best_params_)\n",
        "  print('Random Search Best Parameters:', r_search.best_params_)\n",
        "  print()\n",
        "  print('Grid Search Classification Report')\n",
        "  print(classification_report(y_test,y_pred_grid))\n",
        "  print()\n",
        "  print('Random Search Classification Report')\n",
        "  print(classification_report(y_test,y_pred_random))"
      ]
    },
    {
      "cell_type": "code",
      "execution_count": 48,
      "metadata": {
        "colab": {
          "base_uri": "https://localhost:8080/"
        },
        "id": "L_ommrSe9iC6",
        "outputId": "20fb114a-5217-4696-c5e2-53b9e973316e"
      },
      "outputs": [
        {
          "name": "stdout",
          "output_type": "stream",
          "text": [
            "Grid Search Best Parameters: {'class_weight': 'balanced', 'criterion': 'entropy', 'max_features': 'sqrt'}\n",
            "Random Search Best Parameters: {'max_features': 'sqrt', 'criterion': 'log_loss', 'class_weight': 'balanced'}\n",
            "\n",
            "Grid Search Classification Report\n",
            "              precision    recall  f1-score   support\n",
            "\n",
            "           0       0.86      0.89      0.87       374\n",
            "           1       0.20      0.16      0.18        67\n",
            "\n",
            "    accuracy                           0.78       441\n",
            "   macro avg       0.53      0.52      0.53       441\n",
            "weighted avg       0.76      0.78      0.77       441\n",
            "\n",
            "\n",
            "Random Search Classification Report\n",
            "              precision    recall  f1-score   support\n",
            "\n",
            "           0       0.86      0.89      0.87       374\n",
            "           1       0.20      0.16      0.18        67\n",
            "\n",
            "    accuracy                           0.78       441\n",
            "   macro avg       0.53      0.52      0.53       441\n",
            "weighted avg       0.76      0.78      0.77       441\n",
            "\n"
          ]
        }
      ],
      "source": [
        "grid_random(forest)"
      ]
    },
    {
      "cell_type": "code",
      "execution_count": 49,
      "metadata": {
        "colab": {
          "base_uri": "https://localhost:8080/"
        },
        "id": "1sQyTjSHEExh",
        "outputId": "a5a8cbd1-85ba-4d73-9b44-00c32190ac8c"
      },
      "outputs": [
        {
          "name": "stdout",
          "output_type": "stream",
          "text": [
            "Grid Search Best Parameters: {'algorithm': 'auto', 'weights': 'distance'}\n",
            "Random Search Best Parameters: {'weights': 'distance', 'algorithm': 'auto'}\n",
            "\n",
            "Grid Search Classification Report\n",
            "              precision    recall  f1-score   support\n",
            "\n",
            "           0       0.88      0.63      0.73       374\n",
            "           1       0.20      0.52      0.29        67\n",
            "\n",
            "    accuracy                           0.61       441\n",
            "   macro avg       0.54      0.57      0.51       441\n",
            "weighted avg       0.78      0.61      0.66       441\n",
            "\n",
            "\n",
            "Random Search Classification Report\n",
            "              precision    recall  f1-score   support\n",
            "\n",
            "           0       0.88      0.63      0.73       374\n",
            "           1       0.20      0.52      0.29        67\n",
            "\n",
            "    accuracy                           0.61       441\n",
            "   macro avg       0.54      0.57      0.51       441\n",
            "weighted avg       0.78      0.61      0.66       441\n",
            "\n"
          ]
        }
      ],
      "source": [
        "grid_random(knn)"
      ]
    },
    {
      "cell_type": "code",
      "execution_count": 50,
      "metadata": {
        "colab": {
          "base_uri": "https://localhost:8080/"
        },
        "id": "omtUoSD4EHWX",
        "outputId": "6a0982a6-3156-4364-d868-261fad5cedb3"
      },
      "outputs": [
        {
          "name": "stdout",
          "output_type": "stream",
          "text": [
            "Grid Search Best Parameters: {'criterion': 'entropy', 'max_features': None, 'splitter': 'best'}\n",
            "Random Search Best Parameters: {'splitter': 'best', 'max_features': 'sqrt', 'criterion': 'log_loss'}\n",
            "\n",
            "Grid Search Classification Report\n",
            "              precision    recall  f1-score   support\n",
            "\n",
            "           0       0.85      0.79      0.82       374\n",
            "           1       0.17      0.24      0.20        67\n",
            "\n",
            "    accuracy                           0.71       441\n",
            "   macro avg       0.51      0.52      0.51       441\n",
            "weighted avg       0.75      0.71      0.73       441\n",
            "\n",
            "\n",
            "Random Search Classification Report\n",
            "              precision    recall  f1-score   support\n",
            "\n",
            "           0       0.86      0.81      0.84       374\n",
            "           1       0.20      0.25      0.22        67\n",
            "\n",
            "    accuracy                           0.73       441\n",
            "   macro avg       0.53      0.53      0.53       441\n",
            "weighted avg       0.76      0.73      0.74       441\n",
            "\n"
          ]
        }
      ],
      "source": [
        "grid_random(dt)"
      ]
    }
  ],
  "metadata": {
    "colab": {
      "provenance": []
    },
    "kernelspec": {
      "display_name": "Python 3",
      "name": "python3"
    },
    "language_info": {
      "codemirror_mode": {
        "name": "ipython",
        "version": 3
      },
      "file_extension": ".py",
      "mimetype": "text/x-python",
      "name": "python",
      "nbconvert_exporter": "python",
      "pygments_lexer": "ipython3",
      "version": "3.10.12"
    }
  },
  "nbformat": 4,
  "nbformat_minor": 0
}
